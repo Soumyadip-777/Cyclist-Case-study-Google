{
 "cells": [
  {
   "cell_type": "markdown",
   "metadata": {},
   "source": [
    "## Case Background\n",
    "As a junior data analyst working in the marketing analyst team at Cyclistic (a bike-sharing company active in Chicago), I am tasked with understanding how casual riders and annual members use Cyclistic bikes differently. Casual riders consist of customers that purchase single-ride or full-day passes, whereas annual members subscribe yearly for unlimited biking access. The marketing director theorizes that the company's future success depends on maximizing the number of yearly memberships by converting casual riders into annual members. Pending executive approval, my team will be designing a new marketing strategy that pursues this idea. "
   ]
  },
  {
   "cell_type": "markdown",
   "metadata": {},
   "source": [
    "## About the company\n",
    "\n",
    "In 2016, Cyclistic launched a successful bike-share offering. Since then, the program has grown to a fleet of 5,824 bicycles that are geotracked and locked into a network of 692 stations across Chicago. The bikes can be unlocked from one station and returned to any other station in the system anytime.\n",
    "Until now, Cyclistic’s marketing strategy relied on building general awareness and appealing to broad consumer segments. One approach that helped make these things possible was the flexibility of its pricing plans: single-ride passes, full-day passes, and annual memberships. Customers who purchase single-ride or full-day passes are referred to as casual riders. Customers who purchase annual memberships are Cyclistic members.\n",
    "Cyclistic’s finance analysts have concluded that annual members are much more profitable than casual riders. Although the pricing flexibility helps Cyclistic attract more customers, Moreno believes that maximizing the number of annual members will be key to future growth. Rather than creating a marketing campaign that targets all-new customers, Moreno believes there is a very good chance to convert casual riders into members. She notes that casual riders are already aware of the Cyclistic program and have chosen Cyclistic for their mobility needs.\n",
    "Moreno has set a clear goal: Design marketing strategies aimed at converting casual riders into annual members. In order to do that, however, the marketing analyst team needs to better understand how annual members and casual riders differ, why casual riders would buy a membership, and how digital media could affect their marketing tactics. Moreno and her team are interested in analyzing the Cyclistic historical bike trip data to identify trends."
   ]
  },
  {
   "cell_type": "markdown",
   "metadata": {},
   "source": [
    "## Business Background\n",
    "Business Model:\n",
    "\n",
    "- Product: bike-sharing geotracked and network locked bikes across Chicago\n",
    "- Customer types and revenue model: members (annual subscribers) and casual riders (single-ride and full-day purchasers)\n",
    "- Competitive advantages: Bicycle variety (broad consumer segments) and pricing flexibility \n",
    "\n",
    "Product Background:\n",
    "\n",
    "- 5,824 bicycles and 692 docking stations\n",
    "- More than 50% of riders select traditional bikes\n",
    "- 8% of riders opt for the assistive bike options\n",
    "- 30% of users bike to commute to work each day\n",
    "- Users are more likely to ride for leisure\n",
    "- Casual riders have chosen Cyclistic for their mobility needs"
   ]
  },
  {
   "cell_type": "markdown",
   "metadata": {},
   "source": [
    "- Lily Moreno: The director of marketing and my manager. Moreno is responsible for the development of campaigns and initiatives to promote the bike-share program. These may include email, social media, and other channels.\n",
    "\n",
    "- Cyclistic marketing analytics team: A team of data analysts who are responsible for collecting, analyzing, and reporting data that helps guide Cyclistic marketing strategy. I joined this team six months ago and have been busy learning about Cyclistic’s mission and business goals , as a junior data analyst, can help Cyclistic achieve them.\n",
    "\n",
    "- Cyclistic executive team: The notoriously detail-oriented executive team will decide whether to approve the recommended marketing program."
   ]
  },
  {
   "cell_type": "markdown",
   "metadata": {},
   "source": [
    "##### Moreno has assigned me a question to answer: \n",
    "### How do annual members and casual riders use Cyclistic bikes differently?\n"
   ]
  },
  {
   "cell_type": "code",
   "execution_count": 1,
   "metadata": {},
   "outputs": [],
   "source": [
    "import os\n",
    "import numpy as np\n",
    "import pandas as pd"
   ]
  },
  {
   "cell_type": "markdown",
   "metadata": {},
   "source": [
    "### Reading all csv files of folder"
   ]
  },
  {
   "cell_type": "code",
   "execution_count": 4,
   "metadata": {},
   "outputs": [],
   "source": [
    "df = pd.read_csv(r'/Users/soumyadipghorai/Downloads/bikeride/202111-divvy-tripdata.csv')\n",
    "\n",
    "files = [file for file in os.listdir(r'/Users/soumyadipghorai/Downloads/bikeride')]\n",
    "\n",
    "all_data = pd.DataFrame()\n",
    "\n",
    "for file in files:\n",
    "    df = pd.read_csv(r'/Users/soumyadipghorai/Downloads/bikeride/'+file)\n",
    "    all_data = pd.concat([all_data,df])\n",
    "    \n",
    "    all_data.to_csv('Cyclist2022.csv.csv',index = False)"
   ]
  },
  {
   "cell_type": "code",
   "execution_count": 2,
   "metadata": {},
   "outputs": [],
   "source": [
    "df = pd.read_csv(r'/Users/soumyadipghorai/Downloads/Cyclist2022.csv')"
   ]
  },
  {
   "cell_type": "code",
   "execution_count": 8,
   "metadata": {},
   "outputs": [
    {
     "data": {
      "text/html": [
       "<div>\n",
       "<style scoped>\n",
       "    .dataframe tbody tr th:only-of-type {\n",
       "        vertical-align: middle;\n",
       "    }\n",
       "\n",
       "    .dataframe tbody tr th {\n",
       "        vertical-align: top;\n",
       "    }\n",
       "\n",
       "    .dataframe thead th {\n",
       "        text-align: right;\n",
       "    }\n",
       "</style>\n",
       "<table border=\"1\" class=\"dataframe\">\n",
       "  <thead>\n",
       "    <tr style=\"text-align: right;\">\n",
       "      <th></th>\n",
       "      <th>ride_id</th>\n",
       "      <th>rideable_type</th>\n",
       "      <th>started_at</th>\n",
       "      <th>ended_at</th>\n",
       "      <th>start_station_name</th>\n",
       "      <th>start_station_id</th>\n",
       "      <th>end_station_name</th>\n",
       "      <th>end_station_id</th>\n",
       "      <th>start_lat</th>\n",
       "      <th>start_lng</th>\n",
       "      <th>end_lat</th>\n",
       "      <th>end_lng</th>\n",
       "      <th>member_casual</th>\n",
       "    </tr>\n",
       "  </thead>\n",
       "  <tbody>\n",
       "    <tr>\n",
       "      <th>0</th>\n",
       "      <td>550CF7EFEAE0C618</td>\n",
       "      <td>electric_bike</td>\n",
       "      <td>2022-08-07 21:34:15</td>\n",
       "      <td>2022-08-07 21:41:46</td>\n",
       "      <td>NaN</td>\n",
       "      <td>NaN</td>\n",
       "      <td>NaN</td>\n",
       "      <td>NaN</td>\n",
       "      <td>41.93</td>\n",
       "      <td>-87.69</td>\n",
       "      <td>41.94</td>\n",
       "      <td>-87.72</td>\n",
       "      <td>casual</td>\n",
       "    </tr>\n",
       "    <tr>\n",
       "      <th>1</th>\n",
       "      <td>DAD198F405F9C5F5</td>\n",
       "      <td>electric_bike</td>\n",
       "      <td>2022-08-08 14:39:21</td>\n",
       "      <td>2022-08-08 14:53:23</td>\n",
       "      <td>NaN</td>\n",
       "      <td>NaN</td>\n",
       "      <td>NaN</td>\n",
       "      <td>NaN</td>\n",
       "      <td>41.89</td>\n",
       "      <td>-87.64</td>\n",
       "      <td>41.92</td>\n",
       "      <td>-87.64</td>\n",
       "      <td>casual</td>\n",
       "    </tr>\n",
       "    <tr>\n",
       "      <th>2</th>\n",
       "      <td>E6F2BC47B65CB7FD</td>\n",
       "      <td>electric_bike</td>\n",
       "      <td>2022-08-08 15:29:50</td>\n",
       "      <td>2022-08-08 15:40:34</td>\n",
       "      <td>NaN</td>\n",
       "      <td>NaN</td>\n",
       "      <td>NaN</td>\n",
       "      <td>NaN</td>\n",
       "      <td>41.97</td>\n",
       "      <td>-87.69</td>\n",
       "      <td>41.97</td>\n",
       "      <td>-87.66</td>\n",
       "      <td>casual</td>\n",
       "    </tr>\n",
       "    <tr>\n",
       "      <th>3</th>\n",
       "      <td>F597830181C2E13C</td>\n",
       "      <td>electric_bike</td>\n",
       "      <td>2022-08-08 02:43:50</td>\n",
       "      <td>2022-08-08 02:58:53</td>\n",
       "      <td>NaN</td>\n",
       "      <td>NaN</td>\n",
       "      <td>NaN</td>\n",
       "      <td>NaN</td>\n",
       "      <td>41.94</td>\n",
       "      <td>-87.65</td>\n",
       "      <td>41.97</td>\n",
       "      <td>-87.69</td>\n",
       "      <td>casual</td>\n",
       "    </tr>\n",
       "    <tr>\n",
       "      <th>4</th>\n",
       "      <td>0CE689BB4E313E8D</td>\n",
       "      <td>electric_bike</td>\n",
       "      <td>2022-08-07 20:24:06</td>\n",
       "      <td>2022-08-07 20:29:58</td>\n",
       "      <td>NaN</td>\n",
       "      <td>NaN</td>\n",
       "      <td>NaN</td>\n",
       "      <td>NaN</td>\n",
       "      <td>41.85</td>\n",
       "      <td>-87.65</td>\n",
       "      <td>41.84</td>\n",
       "      <td>-87.66</td>\n",
       "      <td>casual</td>\n",
       "    </tr>\n",
       "  </tbody>\n",
       "</table>\n",
       "</div>"
      ],
      "text/plain": [
       "            ride_id  rideable_type           started_at             ended_at  \\\n",
       "0  550CF7EFEAE0C618  electric_bike  2022-08-07 21:34:15  2022-08-07 21:41:46   \n",
       "1  DAD198F405F9C5F5  electric_bike  2022-08-08 14:39:21  2022-08-08 14:53:23   \n",
       "2  E6F2BC47B65CB7FD  electric_bike  2022-08-08 15:29:50  2022-08-08 15:40:34   \n",
       "3  F597830181C2E13C  electric_bike  2022-08-08 02:43:50  2022-08-08 02:58:53   \n",
       "4  0CE689BB4E313E8D  electric_bike  2022-08-07 20:24:06  2022-08-07 20:29:58   \n",
       "\n",
       "  start_station_name start_station_id end_station_name end_station_id  \\\n",
       "0                NaN              NaN              NaN            NaN   \n",
       "1                NaN              NaN              NaN            NaN   \n",
       "2                NaN              NaN              NaN            NaN   \n",
       "3                NaN              NaN              NaN            NaN   \n",
       "4                NaN              NaN              NaN            NaN   \n",
       "\n",
       "   start_lat  start_lng  end_lat  end_lng member_casual  \n",
       "0      41.93     -87.69    41.94   -87.72        casual  \n",
       "1      41.89     -87.64    41.92   -87.64        casual  \n",
       "2      41.97     -87.69    41.97   -87.66        casual  \n",
       "3      41.94     -87.65    41.97   -87.69        casual  \n",
       "4      41.85     -87.65    41.84   -87.66        casual  "
      ]
     },
     "execution_count": 8,
     "metadata": {},
     "output_type": "execute_result"
    }
   ],
   "source": [
    "df.head()"
   ]
  },
  {
   "cell_type": "markdown",
   "metadata": {},
   "source": [
    "#### Deleting NULL values for better insights"
   ]
  },
  {
   "cell_type": "code",
   "execution_count": 9,
   "metadata": {},
   "outputs": [],
   "source": [
    "df[df.isna().any(axis = 1)]\n",
    "df= df.dropna(how='any')"
   ]
  },
  {
   "cell_type": "markdown",
   "metadata": {},
   "source": [
    "#### Converting started_at & ended_at to datetime format.So i can measure trip duration."
   ]
  },
  {
   "cell_type": "code",
   "execution_count": 4,
   "metadata": {},
   "outputs": [],
   "source": [
    "df[\"started_at\"] = pd.to_datetime(df[\"started_at\"])\n",
    "df[\"ended_at\"] = pd.to_datetime(df[\"ended_at\"])"
   ]
  },
  {
   "cell_type": "code",
   "execution_count": 5,
   "metadata": {},
   "outputs": [],
   "source": [
    "df['ride_length'] = df['ended_at'] - df['started_at']"
   ]
  },
  {
   "cell_type": "code",
   "execution_count": 6,
   "metadata": {},
   "outputs": [],
   "source": [
    "a = df['ride_length']\n",
    "df['trip_duration'] = a.astype('timedelta64[m]')"
   ]
  },
  {
   "cell_type": "code",
   "execution_count": 7,
   "metadata": {},
   "outputs": [],
   "source": [
    "df['trip_duration'] = df['trip_duration'].astype('int')"
   ]
  },
  {
   "cell_type": "markdown",
   "metadata": {},
   "source": [
    "### adding a columnn of weekday(starting from monday to sunday)"
   ]
  },
  {
   "cell_type": "code",
   "execution_count": 8,
   "metadata": {},
   "outputs": [],
   "source": [
    "df['Day_of_week'] = df['started_at'].dt.weekday"
   ]
  },
  {
   "cell_type": "markdown",
   "metadata": {},
   "source": [
    "#### Measure distance from latitude and longitude values"
   ]
  },
  {
   "cell_type": "code",
   "execution_count": 9,
   "metadata": {},
   "outputs": [],
   "source": [
    "def haversine(lat1, lon1, lat2, lon2):\n",
    "    \"\"\"\n",
    "    haversine formula determining the great-circle distance between two points on a sphere in miles\n",
    "    \"\"\"\n",
    "    lat1, lon1, lat2, lon2 = np.radians([lat1, lon1, lat2, lon2])\n",
    "\n",
    "    a = np.sin((lat2-lat1)/2.0)**2 + \\\n",
    "        np.cos(lat1) * np.cos(lat2) * np.sin((lon2-lon1)/2.0)**2\n",
    "\n",
    "    return 3956 * 2 * np.arcsin(np.sqrt(a))\n",
    "\n",
    "df['distance'] = haversine(df['start_lat'],df['start_lng'],df['end_lat'],df['end_lng'])"
   ]
  },
  {
   "cell_type": "markdown",
   "metadata": {},
   "source": [
    "#### Viewing processed data"
   ]
  },
  {
   "cell_type": "code",
   "execution_count": 29,
   "metadata": {},
   "outputs": [
    {
     "data": {
      "text/html": [
       "<div>\n",
       "<style scoped>\n",
       "    .dataframe tbody tr th:only-of-type {\n",
       "        vertical-align: middle;\n",
       "    }\n",
       "\n",
       "    .dataframe tbody tr th {\n",
       "        vertical-align: top;\n",
       "    }\n",
       "\n",
       "    .dataframe thead th {\n",
       "        text-align: right;\n",
       "    }\n",
       "</style>\n",
       "<table border=\"1\" class=\"dataframe\">\n",
       "  <thead>\n",
       "    <tr style=\"text-align: right;\">\n",
       "      <th></th>\n",
       "      <th>ride_id</th>\n",
       "      <th>rideable_type</th>\n",
       "      <th>started_at</th>\n",
       "      <th>ended_at</th>\n",
       "      <th>start_station_name</th>\n",
       "      <th>start_station_id</th>\n",
       "      <th>end_station_name</th>\n",
       "      <th>end_station_id</th>\n",
       "      <th>start_lat</th>\n",
       "      <th>start_lng</th>\n",
       "      <th>end_lat</th>\n",
       "      <th>end_lng</th>\n",
       "      <th>member_casual</th>\n",
       "      <th>Month</th>\n",
       "      <th>ride_length</th>\n",
       "      <th>trip_duration</th>\n",
       "      <th>Day_of_week</th>\n",
       "      <th>distance</th>\n",
       "    </tr>\n",
       "  </thead>\n",
       "  <tbody>\n",
       "    <tr>\n",
       "      <th>142</th>\n",
       "      <td>241C440C74CB31BB</td>\n",
       "      <td>classic_bike</td>\n",
       "      <td>2022-08-05 16:13:36</td>\n",
       "      <td>2022-08-05 16:22:40</td>\n",
       "      <td>DuSable Museum</td>\n",
       "      <td>KA1503000075</td>\n",
       "      <td>Cottage Grove Ave &amp; 51st St</td>\n",
       "      <td>TA1309000067</td>\n",
       "      <td>41.791568</td>\n",
       "      <td>-87.607852</td>\n",
       "      <td>41.803038</td>\n",
       "      <td>-87.606615</td>\n",
       "      <td>casual</td>\n",
       "      <td>08</td>\n",
       "      <td>0 days 00:09:04</td>\n",
       "      <td>9</td>\n",
       "      <td>4</td>\n",
       "      <td>0.794504</td>\n",
       "    </tr>\n",
       "    <tr>\n",
       "      <th>271</th>\n",
       "      <td>53A7590B28ED25E2</td>\n",
       "      <td>classic_bike</td>\n",
       "      <td>2022-08-11 23:30:11</td>\n",
       "      <td>2022-08-11 23:30:56</td>\n",
       "      <td>California Ave &amp; Milwaukee Ave</td>\n",
       "      <td>13084</td>\n",
       "      <td>California Ave &amp; Milwaukee Ave</td>\n",
       "      <td>13084</td>\n",
       "      <td>41.922695</td>\n",
       "      <td>-87.697153</td>\n",
       "      <td>41.922695</td>\n",
       "      <td>-87.697153</td>\n",
       "      <td>casual</td>\n",
       "      <td>08</td>\n",
       "      <td>0 days 00:00:45</td>\n",
       "      <td>0</td>\n",
       "      <td>3</td>\n",
       "      <td>0.000000</td>\n",
       "    </tr>\n",
       "    <tr>\n",
       "      <th>329</th>\n",
       "      <td>C34EE790A58C0434</td>\n",
       "      <td>classic_bike</td>\n",
       "      <td>2022-08-21 14:09:08</td>\n",
       "      <td>2022-08-21 15:10:46</td>\n",
       "      <td>California Ave &amp; Division St</td>\n",
       "      <td>13256</td>\n",
       "      <td>California Ave &amp; Division St</td>\n",
       "      <td>13256</td>\n",
       "      <td>41.903029</td>\n",
       "      <td>-87.697474</td>\n",
       "      <td>41.903029</td>\n",
       "      <td>-87.697474</td>\n",
       "      <td>casual</td>\n",
       "      <td>08</td>\n",
       "      <td>0 days 01:01:38</td>\n",
       "      <td>61</td>\n",
       "      <td>6</td>\n",
       "      <td>0.000000</td>\n",
       "    </tr>\n",
       "    <tr>\n",
       "      <th>357</th>\n",
       "      <td>49259B4BA064D81B</td>\n",
       "      <td>electric_bike</td>\n",
       "      <td>2022-08-21 16:15:12</td>\n",
       "      <td>2022-08-21 16:29:30</td>\n",
       "      <td>Wood St &amp; Chicago Ave</td>\n",
       "      <td>637</td>\n",
       "      <td>Wood St &amp; Chicago Ave</td>\n",
       "      <td>637</td>\n",
       "      <td>41.895673</td>\n",
       "      <td>-87.672075</td>\n",
       "      <td>41.895634</td>\n",
       "      <td>-87.672069</td>\n",
       "      <td>casual</td>\n",
       "      <td>08</td>\n",
       "      <td>0 days 00:14:18</td>\n",
       "      <td>14</td>\n",
       "      <td>6</td>\n",
       "      <td>0.002734</td>\n",
       "    </tr>\n",
       "    <tr>\n",
       "      <th>422</th>\n",
       "      <td>BEE91D557E47FE83</td>\n",
       "      <td>classic_bike</td>\n",
       "      <td>2022-08-21 02:11:26</td>\n",
       "      <td>2022-08-21 03:44:04</td>\n",
       "      <td>California Ave &amp; Milwaukee Ave</td>\n",
       "      <td>13084</td>\n",
       "      <td>California Ave &amp; Milwaukee Ave</td>\n",
       "      <td>13084</td>\n",
       "      <td>41.922695</td>\n",
       "      <td>-87.697153</td>\n",
       "      <td>41.922695</td>\n",
       "      <td>-87.697153</td>\n",
       "      <td>casual</td>\n",
       "      <td>08</td>\n",
       "      <td>0 days 01:32:38</td>\n",
       "      <td>92</td>\n",
       "      <td>6</td>\n",
       "      <td>0.000000</td>\n",
       "    </tr>\n",
       "  </tbody>\n",
       "</table>\n",
       "</div>"
      ],
      "text/plain": [
       "              ride_id  rideable_type          started_at            ended_at  \\\n",
       "142  241C440C74CB31BB   classic_bike 2022-08-05 16:13:36 2022-08-05 16:22:40   \n",
       "271  53A7590B28ED25E2   classic_bike 2022-08-11 23:30:11 2022-08-11 23:30:56   \n",
       "329  C34EE790A58C0434   classic_bike 2022-08-21 14:09:08 2022-08-21 15:10:46   \n",
       "357  49259B4BA064D81B  electric_bike 2022-08-21 16:15:12 2022-08-21 16:29:30   \n",
       "422  BEE91D557E47FE83   classic_bike 2022-08-21 02:11:26 2022-08-21 03:44:04   \n",
       "\n",
       "                 start_station_name start_station_id  \\\n",
       "142                  DuSable Museum     KA1503000075   \n",
       "271  California Ave & Milwaukee Ave            13084   \n",
       "329    California Ave & Division St            13256   \n",
       "357           Wood St & Chicago Ave              637   \n",
       "422  California Ave & Milwaukee Ave            13084   \n",
       "\n",
       "                   end_station_name end_station_id  start_lat  start_lng  \\\n",
       "142     Cottage Grove Ave & 51st St   TA1309000067  41.791568 -87.607852   \n",
       "271  California Ave & Milwaukee Ave          13084  41.922695 -87.697153   \n",
       "329    California Ave & Division St          13256  41.903029 -87.697474   \n",
       "357           Wood St & Chicago Ave            637  41.895673 -87.672075   \n",
       "422  California Ave & Milwaukee Ave          13084  41.922695 -87.697153   \n",
       "\n",
       "       end_lat    end_lng member_casual Month     ride_length  trip_duration  \\\n",
       "142  41.803038 -87.606615        casual    08 0 days 00:09:04              9   \n",
       "271  41.922695 -87.697153        casual    08 0 days 00:00:45              0   \n",
       "329  41.903029 -87.697474        casual    08 0 days 01:01:38             61   \n",
       "357  41.895634 -87.672069        casual    08 0 days 00:14:18             14   \n",
       "422  41.922695 -87.697153        casual    08 0 days 01:32:38             92   \n",
       "\n",
       "     Day_of_week  distance  \n",
       "142            4  0.794504  \n",
       "271            3  0.000000  \n",
       "329            6  0.000000  \n",
       "357            6  0.002734  \n",
       "422            6  0.000000  "
      ]
     },
     "execution_count": 29,
     "metadata": {},
     "output_type": "execute_result"
    }
   ],
   "source": [
    "df.head()"
   ]
  },
  {
   "cell_type": "markdown",
   "metadata": {},
   "source": [
    "#### Saving processed dataset to a csv file"
   ]
  },
  {
   "cell_type": "code",
   "execution_count": 32,
   "metadata": {},
   "outputs": [],
   "source": [
    "df.to_csv('CyclistCaseStudy.csv',index = False)"
   ]
  },
  {
   "cell_type": "code",
   "execution_count": null,
   "metadata": {},
   "outputs": [],
   "source": []
  }
 ],
 "metadata": {
  "kernelspec": {
   "display_name": "Python 3.9.6 64-bit",
   "language": "python",
   "name": "python3"
  },
  "language_info": {
   "codemirror_mode": {
    "name": "ipython",
    "version": 3
   },
   "file_extension": ".py",
   "mimetype": "text/x-python",
   "name": "python",
   "nbconvert_exporter": "python",
   "pygments_lexer": "ipython3",
   "version": "3.9.6"
  },
  "orig_nbformat": 4,
  "vscode": {
   "interpreter": {
    "hash": "aee8b7b246df8f9039afb4144a1f6fd8d2ca17a180786b69acc140d282b71a49"
   }
  }
 },
 "nbformat": 4,
 "nbformat_minor": 2
}
